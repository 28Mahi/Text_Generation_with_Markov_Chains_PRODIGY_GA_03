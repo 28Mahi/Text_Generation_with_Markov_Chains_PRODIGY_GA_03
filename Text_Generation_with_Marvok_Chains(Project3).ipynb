{
  "nbformat": 4,
  "nbformat_minor": 0,
  "metadata": {
    "colab": {
      "provenance": []
    },
    "kernelspec": {
      "name": "python3",
      "display_name": "Python 3"
    },
    "language_info": {
      "name": "python"
    }
  },
  "cells": [
    {
      "cell_type": "markdown",
      "source": [
        "Markov Chains are simple stochastic model in which a system can exist in a number of states."
      ],
      "metadata": {
        "id": "k2F0a5oatCmj"
      }
    },
    {
      "cell_type": "code",
      "execution_count": 11,
      "metadata": {
        "colab": {
          "base_uri": "https://localhost:8080/"
        },
        "id": "G647rASxsbXF",
        "outputId": "ec5db6d9-c468-4099-b69c-1dedec446dc7"
      },
      "outputs": [
        {
          "output_type": "stream",
          "name": "stdout",
          "text": [
            "Mounted at /content/drive\n"
          ]
        }
      ],
      "source": [
        "from google.colab import drive\n",
        "drive.mount('/content/drive')"
      ]
    },
    {
      "cell_type": "code",
      "source": [
        "%cd /content/drive/My Drive/Colab Notebooks"
      ],
      "metadata": {
        "id": "7aqU7KDJ0fVQ",
        "outputId": "8fc42b13-629f-45f2-ac35-4c5e72d3b7fe",
        "colab": {
          "base_uri": "https://localhost:8080/"
        }
      },
      "execution_count": 16,
      "outputs": [
        {
          "output_type": "stream",
          "name": "stdout",
          "text": [
            "/content/drive/My Drive/Colab Notebooks\n"
          ]
        }
      ]
    },
    {
      "cell_type": "markdown",
      "source": [
        "Installing Markovify"
      ],
      "metadata": {
        "id": "H6TeE2Bauvpq"
      }
    },
    {
      "cell_type": "code",
      "source": [
        "!pip install markovify"
      ],
      "metadata": {
        "id": "-wnLVImCuuJx",
        "outputId": "53a45fd7-bc01-4fbf-c7e2-d0bbfc5b3bf3",
        "colab": {
          "base_uri": "https://localhost:8080/"
        }
      },
      "execution_count": 18,
      "outputs": [
        {
          "output_type": "stream",
          "name": "stdout",
          "text": [
            "Requirement already satisfied: markovify in /usr/local/lib/python3.10/dist-packages (0.9.4)\n",
            "Requirement already satisfied: unidecode in /usr/local/lib/python3.10/dist-packages (from markovify) (1.3.8)\n"
          ]
        }
      ]
    },
    {
      "cell_type": "markdown",
      "source": [
        "Start by importing markovify library and a text file whose style we would like to imitiate"
      ],
      "metadata": {
        "id": "M8KRhtRmxDgt"
      }
    },
    {
      "cell_type": "code",
      "source": [
        "import markovify\n",
        "import pandas as pd\n",
        "df = pd.read_csv('/content/airport_reviews.csv.zip')"
      ],
      "metadata": {
        "id": "c51S2E-kvF0Z"
      },
      "execution_count": 19,
      "outputs": []
    },
    {
      "cell_type": "markdown",
      "source": [
        "Next, join the individual reviews into 1 large text string and build a Markov chain model using the airport review text"
      ],
      "metadata": {
        "id": "nqnuRh7_zWCL"
      }
    },
    {
      "cell_type": "code",
      "source": [
        "from itertools import chain\n",
        "N=100\n",
        "review_subset = df[\"content\"][0:N]\n",
        "text = \"\".join(chain.from_iterable(review_subset))\n",
        "markov_Chain_model = markovify.Text(text)"
      ],
      "metadata": {
        "id": "MvUkvjAixmyy"
      },
      "execution_count": 22,
      "outputs": []
    },
    {
      "cell_type": "markdown",
      "source": [
        "Generate 5 sentences using the Markov chain model"
      ],
      "metadata": {
        "id": "zPvra9a902PN"
      }
    },
    {
      "cell_type": "code",
      "source": [
        "for i in range (5):\n",
        "  print(markov_Chain_model.make_sentence())"
      ],
      "metadata": {
        "id": "ZGvksryO0oSc",
        "outputId": "9cdc4148-66c9-4d6f-bbc8-5a786e521a48",
        "colab": {
          "base_uri": "https://localhost:8080/"
        }
      },
      "execution_count": 24,
      "outputs": [
        {
          "output_type": "stream",
          "name": "stdout",
          "text": [
            "We were waiting at belt 1 for the bus in a friendly manner.\n",
            "Long line up 30 minutes for passengers who were stuck in the shops.Cool modern design and lots of escalators.\n",
            "While check-in is becoming a bit of a legal action by Ryanair who charter the buses.\n",
            "The building is clean directions are well located and lines in migration customs and security-checks run efficiently.\n",
            "With improved intercontinental connections and we all made a charge for our connecting flight due to increased traffic it still has one of the NATO summit.\n"
          ]
        }
      ]
    },
    {
      "cell_type": "markdown",
      "source": [
        "Generate 3 sentence with a large of no more than 140 characters"
      ],
      "metadata": {
        "id": "aywxMHLK1KTk"
      }
    },
    {
      "cell_type": "code",
      "source": [
        "for i in range (3):\n",
        "  print(markov_Chain_model.make_short_sentence(140))"
      ],
      "metadata": {
        "id": "AX9HCFj71GAk",
        "outputId": "adbc737e-ae83-4e0a-e674-eb8d41f72372",
        "colab": {
          "base_uri": "https://localhost:8080/"
        }
      },
      "execution_count": 26,
      "outputs": [
        {
          "output_type": "stream",
          "name": "stdout",
          "text": [
            "Being used to be decades behind the rest of the airport to Leuven as well as Brussels.\n",
            "Ticket area for trains is small dirty and tasteless seats in the middle of the luggage as shown on screen in Departures Hall.\n",
            "At terminal B long walk to the airport fairly passenger friendly easy to spend and could have walked quicker to town centre.\n"
          ]
        }
      ]
    },
    {
      "cell_type": "markdown",
      "source": [
        "1. We import markovify library, a library for Markov Chain computations and reading in text which we will inform at our Markov Model\n",
        "\n",
        "2. We create a Markov Chain Model using the text\n",
        "\n",
        "3. We generate a few sentences\n",
        "\n",
        "4. we create a few tweets in the style of the airport reviews using our Markov Chain"
      ],
      "metadata": {
        "id": "jrbpoW1J1g3i"
      }
    }
  ]
}